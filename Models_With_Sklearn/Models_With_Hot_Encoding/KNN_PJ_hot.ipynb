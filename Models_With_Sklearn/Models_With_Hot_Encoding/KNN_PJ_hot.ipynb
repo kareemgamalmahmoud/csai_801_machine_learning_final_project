{
  "nbformat": 4,
  "nbformat_minor": 0,
  "metadata": {
    "colab": {
      "name": "KNN_PJ_hot.ipynb",
      "provenance": [],
      "collapsed_sections": []
    },
    "kernelspec": {
      "name": "python3",
      "display_name": "Python 3"
    },
    "language_info": {
      "name": "python"
    }
  },
  "cells": [
    {
      "cell_type": "code",
      "execution_count": 1,
      "metadata": {
        "id": "Y0hU32iTkwJo"
      },
      "outputs": [],
      "source": [
        "#Import Libraries\n",
        "import numpy as np\n",
        "import pandas as pd\n",
        "import matplotlib as plt\n",
        "from sklearn.model_selection import train_test_split, GridSearchCV\n",
        "from sklearn.neighbors import KNeighborsClassifier\n",
        "from sklearn.preprocessing import StandardScaler\n",
        "from sklearn.metrics import roc_curve, auc, confusion_matrix, classification_report, roc_auc_score\n",
        "import seaborn as sns\n",
        "import matplotlib.pyplot as plt"
      ]
    },
    {
      "cell_type": "code",
      "source": [
        "#Read the dataset from CSV File\n",
        "data = pd.read_csv('data.csv')\n",
        "data.head(5)"
      ],
      "metadata": {
        "colab": {
          "base_uri": "https://localhost:8080/",
          "height": 206
        },
        "id": "Nav-V0Jbk7el",
        "outputId": "6a77990a-1b56-40c5-a227-228d5cd131cf"
      },
      "execution_count": 2,
      "outputs": [
        {
          "output_type": "execute_result",
          "data": {
            "text/html": [
              "\n",
              "  <div id=\"df-3170c4ca-d7fb-4b4a-9981-66d61dd369ed\">\n",
              "    <div class=\"colab-df-container\">\n",
              "      <div>\n",
              "<style scoped>\n",
              "    .dataframe tbody tr th:only-of-type {\n",
              "        vertical-align: middle;\n",
              "    }\n",
              "\n",
              "    .dataframe tbody tr th {\n",
              "        vertical-align: top;\n",
              "    }\n",
              "\n",
              "    .dataframe thead th {\n",
              "        text-align: right;\n",
              "    }\n",
              "</style>\n",
              "<table border=\"1\" class=\"dataframe\">\n",
              "  <thead>\n",
              "    <tr style=\"text-align: right;\">\n",
              "      <th></th>\n",
              "      <th>Unnamed: 0</th>\n",
              "      <th>location</th>\n",
              "      <th>country</th>\n",
              "      <th>gender</th>\n",
              "      <th>age</th>\n",
              "      <th>vis_wuhan</th>\n",
              "      <th>from_wuhan</th>\n",
              "      <th>symptom1</th>\n",
              "      <th>symptom2</th>\n",
              "      <th>symptom3</th>\n",
              "      <th>symptom4</th>\n",
              "      <th>symptom5</th>\n",
              "      <th>symptom6</th>\n",
              "      <th>diff_sym_hos</th>\n",
              "      <th>result</th>\n",
              "    </tr>\n",
              "  </thead>\n",
              "  <tbody>\n",
              "    <tr>\n",
              "      <th>0</th>\n",
              "      <td>0</td>\n",
              "      <td>104</td>\n",
              "      <td>8</td>\n",
              "      <td>1</td>\n",
              "      <td>66.0</td>\n",
              "      <td>1</td>\n",
              "      <td>0</td>\n",
              "      <td>14</td>\n",
              "      <td>31</td>\n",
              "      <td>19</td>\n",
              "      <td>12</td>\n",
              "      <td>3</td>\n",
              "      <td>1</td>\n",
              "      <td>8</td>\n",
              "      <td>1</td>\n",
              "    </tr>\n",
              "    <tr>\n",
              "      <th>1</th>\n",
              "      <td>1</td>\n",
              "      <td>101</td>\n",
              "      <td>8</td>\n",
              "      <td>0</td>\n",
              "      <td>56.0</td>\n",
              "      <td>0</td>\n",
              "      <td>1</td>\n",
              "      <td>14</td>\n",
              "      <td>31</td>\n",
              "      <td>19</td>\n",
              "      <td>12</td>\n",
              "      <td>3</td>\n",
              "      <td>1</td>\n",
              "      <td>0</td>\n",
              "      <td>0</td>\n",
              "    </tr>\n",
              "    <tr>\n",
              "      <th>2</th>\n",
              "      <td>2</td>\n",
              "      <td>137</td>\n",
              "      <td>8</td>\n",
              "      <td>1</td>\n",
              "      <td>46.0</td>\n",
              "      <td>0</td>\n",
              "      <td>1</td>\n",
              "      <td>14</td>\n",
              "      <td>31</td>\n",
              "      <td>19</td>\n",
              "      <td>12</td>\n",
              "      <td>3</td>\n",
              "      <td>1</td>\n",
              "      <td>13</td>\n",
              "      <td>0</td>\n",
              "    </tr>\n",
              "    <tr>\n",
              "      <th>3</th>\n",
              "      <td>3</td>\n",
              "      <td>116</td>\n",
              "      <td>8</td>\n",
              "      <td>0</td>\n",
              "      <td>60.0</td>\n",
              "      <td>1</td>\n",
              "      <td>0</td>\n",
              "      <td>14</td>\n",
              "      <td>31</td>\n",
              "      <td>19</td>\n",
              "      <td>12</td>\n",
              "      <td>3</td>\n",
              "      <td>1</td>\n",
              "      <td>0</td>\n",
              "      <td>0</td>\n",
              "    </tr>\n",
              "    <tr>\n",
              "      <th>4</th>\n",
              "      <td>4</td>\n",
              "      <td>116</td>\n",
              "      <td>8</td>\n",
              "      <td>1</td>\n",
              "      <td>58.0</td>\n",
              "      <td>0</td>\n",
              "      <td>0</td>\n",
              "      <td>14</td>\n",
              "      <td>31</td>\n",
              "      <td>19</td>\n",
              "      <td>12</td>\n",
              "      <td>3</td>\n",
              "      <td>1</td>\n",
              "      <td>0</td>\n",
              "      <td>0</td>\n",
              "    </tr>\n",
              "  </tbody>\n",
              "</table>\n",
              "</div>\n",
              "      <button class=\"colab-df-convert\" onclick=\"convertToInteractive('df-3170c4ca-d7fb-4b4a-9981-66d61dd369ed')\"\n",
              "              title=\"Convert this dataframe to an interactive table.\"\n",
              "              style=\"display:none;\">\n",
              "        \n",
              "  <svg xmlns=\"http://www.w3.org/2000/svg\" height=\"24px\"viewBox=\"0 0 24 24\"\n",
              "       width=\"24px\">\n",
              "    <path d=\"M0 0h24v24H0V0z\" fill=\"none\"/>\n",
              "    <path d=\"M18.56 5.44l.94 2.06.94-2.06 2.06-.94-2.06-.94-.94-2.06-.94 2.06-2.06.94zm-11 1L8.5 8.5l.94-2.06 2.06-.94-2.06-.94L8.5 2.5l-.94 2.06-2.06.94zm10 10l.94 2.06.94-2.06 2.06-.94-2.06-.94-.94-2.06-.94 2.06-2.06.94z\"/><path d=\"M17.41 7.96l-1.37-1.37c-.4-.4-.92-.59-1.43-.59-.52 0-1.04.2-1.43.59L10.3 9.45l-7.72 7.72c-.78.78-.78 2.05 0 2.83L4 21.41c.39.39.9.59 1.41.59.51 0 1.02-.2 1.41-.59l7.78-7.78 2.81-2.81c.8-.78.8-2.07 0-2.86zM5.41 20L4 18.59l7.72-7.72 1.47 1.35L5.41 20z\"/>\n",
              "  </svg>\n",
              "      </button>\n",
              "      \n",
              "  <style>\n",
              "    .colab-df-container {\n",
              "      display:flex;\n",
              "      flex-wrap:wrap;\n",
              "      gap: 12px;\n",
              "    }\n",
              "\n",
              "    .colab-df-convert {\n",
              "      background-color: #E8F0FE;\n",
              "      border: none;\n",
              "      border-radius: 50%;\n",
              "      cursor: pointer;\n",
              "      display: none;\n",
              "      fill: #1967D2;\n",
              "      height: 32px;\n",
              "      padding: 0 0 0 0;\n",
              "      width: 32px;\n",
              "    }\n",
              "\n",
              "    .colab-df-convert:hover {\n",
              "      background-color: #E2EBFA;\n",
              "      box-shadow: 0px 1px 2px rgba(60, 64, 67, 0.3), 0px 1px 3px 1px rgba(60, 64, 67, 0.15);\n",
              "      fill: #174EA6;\n",
              "    }\n",
              "\n",
              "    [theme=dark] .colab-df-convert {\n",
              "      background-color: #3B4455;\n",
              "      fill: #D2E3FC;\n",
              "    }\n",
              "\n",
              "    [theme=dark] .colab-df-convert:hover {\n",
              "      background-color: #434B5C;\n",
              "      box-shadow: 0px 1px 3px 1px rgba(0, 0, 0, 0.15);\n",
              "      filter: drop-shadow(0px 1px 2px rgba(0, 0, 0, 0.3));\n",
              "      fill: #FFFFFF;\n",
              "    }\n",
              "  </style>\n",
              "\n",
              "      <script>\n",
              "        const buttonEl =\n",
              "          document.querySelector('#df-3170c4ca-d7fb-4b4a-9981-66d61dd369ed button.colab-df-convert');\n",
              "        buttonEl.style.display =\n",
              "          google.colab.kernel.accessAllowed ? 'block' : 'none';\n",
              "\n",
              "        async function convertToInteractive(key) {\n",
              "          const element = document.querySelector('#df-3170c4ca-d7fb-4b4a-9981-66d61dd369ed');\n",
              "          const dataTable =\n",
              "            await google.colab.kernel.invokeFunction('convertToInteractive',\n",
              "                                                     [key], {});\n",
              "          if (!dataTable) return;\n",
              "\n",
              "          const docLinkHtml = 'Like what you see? Visit the ' +\n",
              "            '<a target=\"_blank\" href=https://colab.research.google.com/notebooks/data_table.ipynb>data table notebook</a>'\n",
              "            + ' to learn more about interactive tables.';\n",
              "          element.innerHTML = '';\n",
              "          dataTable['output_type'] = 'display_data';\n",
              "          await google.colab.output.renderOutput(dataTable, element);\n",
              "          const docLink = document.createElement('div');\n",
              "          docLink.innerHTML = docLinkHtml;\n",
              "          element.appendChild(docLink);\n",
              "        }\n",
              "      </script>\n",
              "    </div>\n",
              "  </div>\n",
              "  "
            ],
            "text/plain": [
              "   Unnamed: 0  location  country  ...  symptom6  diff_sym_hos  result\n",
              "0           0       104        8  ...         1             8       1\n",
              "1           1       101        8  ...         1             0       0\n",
              "2           2       137        8  ...         1            13       0\n",
              "3           3       116        8  ...         1             0       0\n",
              "4           4       116        8  ...         1             0       0\n",
              "\n",
              "[5 rows x 15 columns]"
            ]
          },
          "metadata": {},
          "execution_count": 2
        }
      ]
    },
    {
      "cell_type": "code",
      "source": [
        "#Dividing dataset into features and result\n",
        "#Put Features into X\n",
        "X = data[['location', 'country', 'gender', 'age', 'vis_wuhan', 'from_wuhan', 'symptom1', 'symptom2', 'symptom3', 'symptom4', 'symptom5', 'symptom6', 'diff_sym_hos']]\n",
        "print(X.shape)\n",
        "X.head(5)\n",
        "\n",
        "#Hot Encoding\n",
        "X_hot = pd.get_dummies(X, columns=['location', 'country','gender', 'age', 'symptom1', 'symptom2', 'symptom3', 'symptom4', 'symptom5', 'symptom6', 'diff_sym_hos'])\n",
        "print(X_hot.shape)\n",
        "print(X_hot.head(5))"
      ],
      "metadata": {
        "colab": {
          "base_uri": "https://localhost:8080/"
        },
        "id": "4GWCeXXQlHK_",
        "outputId": "d22e741d-f9a0-4a41-ad3b-7b03a6b1d064"
      },
      "execution_count": 3,
      "outputs": [
        {
          "output_type": "stream",
          "name": "stdout",
          "text": [
            "(863, 13)\n",
            "(863, 373)\n",
            "   vis_wuhan  from_wuhan  ...  diff_sym_hos_14  diff_sym_hos_15\n",
            "0          1           0  ...                0                0\n",
            "1          0           1  ...                0                0\n",
            "2          0           1  ...                0                0\n",
            "3          1           0  ...                0                0\n",
            "4          0           0  ...                0                0\n",
            "\n",
            "[5 rows x 373 columns]\n"
          ]
        }
      ]
    },
    {
      "cell_type": "code",
      "source": [
        "#Labeled Data\n",
        "Y = data['result']\n",
        "print(Y.shape)\n",
        "Y.head()"
      ],
      "metadata": {
        "colab": {
          "base_uri": "https://localhost:8080/"
        },
        "id": "Tqj1VEbolJDL",
        "outputId": "36e3059d-5a91-4a98-907c-6879e565636d"
      },
      "execution_count": 4,
      "outputs": [
        {
          "output_type": "stream",
          "name": "stdout",
          "text": [
            "(863,)\n"
          ]
        },
        {
          "output_type": "execute_result",
          "data": {
            "text/plain": [
              "0    1\n",
              "1    0\n",
              "2    0\n",
              "3    0\n",
              "4    0\n",
              "Name: result, dtype: int64"
            ]
          },
          "metadata": {},
          "execution_count": 4
        }
      ]
    },
    {
      "cell_type": "code",
      "source": [
        "#splite the data into Train and Test by 90% for training to 10% for testing\n",
        "xTrain, xTest, yTrain, yTest = train_test_split(X_hot, Y, test_size = .1, random_state = 3, shuffle = True)\n",
        "print(xTrain.shape)\n",
        "print(xTest.shape)\n",
        "print(yTrain.shape)\n",
        "print(yTest.shape)"
      ],
      "metadata": {
        "colab": {
          "base_uri": "https://localhost:8080/"
        },
        "id": "glXVRPQXlKg5",
        "outputId": "c52ef941-7123-4f7e-9710-66695d0c7ac9"
      },
      "execution_count": 5,
      "outputs": [
        {
          "output_type": "stream",
          "name": "stdout",
          "text": [
            "(776, 373)\n",
            "(87, 373)\n",
            "(776,)\n",
            "(87,)\n"
          ]
        }
      ]
    },
    {
      "cell_type": "code",
      "source": [
        "#normalize the data values\n",
        "scaler = StandardScaler()\n",
        "scaler.fit(xTrain)\n",
        "xTrain=scaler.transform(xTrain)\n",
        "xTest=scaler.transform(xTest)"
      ],
      "metadata": {
        "id": "wr6Qb8A_lNEC"
      },
      "execution_count": 7,
      "outputs": []
    },
    {
      "cell_type": "code",
      "source": [
        "initial_n_neighbors_value = np.random.randint(1 , 30)\n",
        "classifier = KNeighborsClassifier(n_neighbors = initial_n_neighbors_value, metric = 'minkowski', p = 2)"
      ],
      "metadata": {
        "id": "MNWUUms7cHi4"
      },
      "execution_count": 8,
      "outputs": []
    },
    {
      "cell_type": "code",
      "source": [
        "k_range = list(range(3, 31, 2))\n",
        "print(k_range)"
      ],
      "metadata": {
        "colab": {
          "base_uri": "https://localhost:8080/"
        },
        "id": "gPNqQDYzcYvA",
        "outputId": "51459761-32e9-4c59-a2b4-fd4b9ae869e2"
      },
      "execution_count": 9,
      "outputs": [
        {
          "output_type": "stream",
          "name": "stdout",
          "text": [
            "[3, 5, 7, 9, 11, 13, 15, 17, 19, 21, 23, 25, 27, 29]\n"
          ]
        }
      ]
    },
    {
      "cell_type": "code",
      "source": [
        "#GrideSearchCV to find the optimal hyperparameters by fit alot of models with difrrent hyperparameters and chose the best one with high accuracy\n",
        "param_grid = {'n_neighbors': k_range, 'weights': ['uniform', 'distance']}\n",
        "grid = GridSearchCV(classifier, param_grid, cv=10, scoring='accuracy')\n",
        "grid.fit(xTrain, yTrain)"
      ],
      "metadata": {
        "colab": {
          "base_uri": "https://localhost:8080/"
        },
        "id": "RKjusEW4ceuD",
        "outputId": "46946fea-5c5d-4651-ea41-62442024ec08"
      },
      "execution_count": 10,
      "outputs": [
        {
          "output_type": "execute_result",
          "data": {
            "text/plain": [
              "GridSearchCV(cv=10, estimator=KNeighborsClassifier(n_neighbors=28),\n",
              "             param_grid={'n_neighbors': [3, 5, 7, 9, 11, 13, 15, 17, 19, 21, 23,\n",
              "                                         25, 27, 29],\n",
              "                         'weights': ['uniform', 'distance']},\n",
              "             scoring='accuracy')"
            ]
          },
          "metadata": {},
          "execution_count": 10
        }
      ]
    },
    {
      "cell_type": "code",
      "source": [
        "print(grid.best_score_)\n",
        "print(grid.best_params_)\n",
        "print(grid.best_estimator_)"
      ],
      "metadata": {
        "colab": {
          "base_uri": "https://localhost:8080/"
        },
        "id": "wPzYAWnic4sV",
        "outputId": "9d2ae80a-d0a6-4dad-cbc7-8a514fe89340"
      },
      "execution_count": 11,
      "outputs": [
        {
          "output_type": "stream",
          "name": "stdout",
          "text": [
            "0.9045621045621047\n",
            "{'n_neighbors': 3, 'weights': 'distance'}\n",
            "KNeighborsClassifier(n_neighbors=3, weights='distance')\n"
          ]
        }
      ]
    },
    {
      "cell_type": "code",
      "source": [
        "#train the model with optimal hyperparameters\n",
        "knn = KNeighborsClassifier(n_neighbors = 3, metric = 'minkowski', p = 2, weights='distance')\n",
        "knn.fit(xTrain, yTrain)"
      ],
      "metadata": {
        "colab": {
          "base_uri": "https://localhost:8080/"
        },
        "id": "2A3QwbX9mroP",
        "outputId": "da521611-db98-4151-f895-03fb4d740495"
      },
      "execution_count": 12,
      "outputs": [
        {
          "output_type": "execute_result",
          "data": {
            "text/plain": [
              "KNeighborsClassifier(n_neighbors=3, weights='distance')"
            ]
          },
          "metadata": {},
          "execution_count": 12
        }
      ]
    },
    {
      "cell_type": "code",
      "source": [
        "#test the accuracy of model on training set\n",
        "print('KNN Model Train Score is : ' , knn.score(xTrain, yTrain))"
      ],
      "metadata": {
        "colab": {
          "base_uri": "https://localhost:8080/"
        },
        "id": "Mndko7u7m0YO",
        "outputId": "0ecc26d0-c295-4f57-ce7a-67b8a2fe60e2"
      },
      "execution_count": 13,
      "outputs": [
        {
          "output_type": "stream",
          "name": "stdout",
          "text": [
            "KNN Model Train Score is :  1.0\n"
          ]
        }
      ]
    },
    {
      "cell_type": "code",
      "source": [
        "#Calculating Prediction\n",
        "yPred = knn.predict(xTest)\n",
        "#----------------------------------------------------\n",
        "#Calculating Confusion Matrix\n",
        "CM = confusion_matrix(yTest, yPred)\n",
        "\n",
        "# drawing confusion matrix\n",
        "ax= plt.subplot()\n",
        "sns.heatmap(CM, annot=True, fmt='g', ax = ax);\n",
        "ax.set_xlabel('Predicted labels');\n",
        "ax.set_ylabel('True labels'); \n",
        "ax.set_title('Confusion Matrix');"
      ],
      "metadata": {
        "colab": {
          "base_uri": "https://localhost:8080/",
          "height": 295
        },
        "id": "VDl4CBTHoAAE",
        "outputId": "f9d05db7-8cfb-4411-e30a-b27b29890bb2"
      },
      "execution_count": 14,
      "outputs": [
        {
          "output_type": "display_data",
          "data": {
            "image/png": "[encoded data removed]",
            "text/plain": [
              "<Figure size 432x288 with 2 Axes>"
            ]
          },
          "metadata": {
            "needs_background": "light"
          }
        }
      ]
    },
    {
      "cell_type": "code",
      "source": [
        "#Calculating classification Report (precision, recall, f1-score, accuracy) on test set:\n",
        "\n",
        "ClassificationReport = classification_report(yTest, yPred)\n",
        "print('Classification Report is : \\n', ClassificationReport)"
      ],
      "metadata": {
        "colab": {
          "base_uri": "https://localhost:8080/"
        },
        "id": "_bt8VuZ-pUEh",
        "outputId": "f86dd8a7-53b5-4759-8933-bd0703182191"
      },
      "execution_count": 15,
      "outputs": [
        {
          "output_type": "stream",
          "name": "stdout",
          "text": [
            "Classification Report is : \n",
            "               precision    recall  f1-score   support\n",
            "\n",
            "           0       0.96      0.97      0.97        79\n",
            "           1       0.71      0.62      0.67         8\n",
            "\n",
            "    accuracy                           0.94        87\n",
            "   macro avg       0.84      0.80      0.82        87\n",
            "weighted avg       0.94      0.94      0.94        87\n",
            "\n"
          ]
        }
      ]
    },
    {
      "cell_type": "code",
      "source": [
        "#Calculating Area Under the Curve with predict probapility:\n",
        "fpr, tpr, thresholds = roc_curve(yTest, knn.predict_proba(xTest)[:,1])\n",
        "\n",
        "roc_auc = roc_auc_score(yTest, knn.predict_proba(xTest)[:,1])\n",
        "plt.plot(fpr, tpr, 'r', label = 'AUC = %0.2f' % roc_auc)\n",
        "plt.plot(fpr, tpr, color='red', label='')\n",
        "plt.plot([0, 1], [0, 1], color='darkblue', linestyle='--')\n",
        "plt.xlabel('False Positive Rate')\n",
        "plt.ylabel('True Positive Rate')\n",
        "plt.title('Receiver Operating Characteristic (ROC) Curve')\n",
        "plt.legend(loc = 'lower right')\n",
        "plt.grid()"
      ],
      "metadata": {
        "id": "x6hQHg3leY1k",
        "colab": {
          "base_uri": "https://localhost:8080/",
          "height": 295
        },
        "outputId": "2a0fcf7d-04bc-47a6-d813-8682c52eb019"
      },
      "execution_count": 17,
      "outputs": [
        {
          "output_type": "display_data",
          "data": {
            "image/png": "[encoded data removed]",
            "text/plain": [
              "<Figure size 432x288 with 1 Axes>"
            ]
          },
          "metadata": {
            "needs_background": "light"
          }
        }
      ]
    },
    {
      "cell_type": "code",
      "source": [
        ""
      ],
      "metadata": {
        "id": "QHtWeckOWz9n"
      },
      "execution_count": 17,
      "outputs": []
    }
  ]
}