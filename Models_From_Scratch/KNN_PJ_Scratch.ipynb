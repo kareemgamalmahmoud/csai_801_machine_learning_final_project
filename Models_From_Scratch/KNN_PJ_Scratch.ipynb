{
  "nbformat": 4,
  "nbformat_minor": 0,
  "metadata": {
    "colab": {
      "name": "KNN_PJ_Scratch.ipynb",
      "provenance": [],
      "collapsed_sections": []
    },
    "kernelspec": {
      "name": "python3",
      "display_name": "Python 3"
    },
    "language_info": {
      "name": "python"
    }
  },
  "cells": [
    {
      "cell_type": "code",
      "execution_count": null,
      "metadata": {
        "colab": {
          "base_uri": "https://localhost:8080/",
          "height": 486
        },
        "id": "on4zgXLj4u4h",
        "outputId": "a579bab2-563e-4c6c-ae29-a08dac055160"
      },
      "outputs": [
        {
          "output_type": "stream",
          "name": "stdout",
          "text": [
            "KNN classification accuracy 0.9425287356321839\n",
            "Classification Report is : \n",
            "               precision    recall  f1-score   support\n",
            "\n",
            "           0       0.97      0.96      0.97        79\n",
            "           1       0.67      0.75      0.71         8\n",
            "\n",
            "    accuracy                           0.94        87\n",
            "   macro avg       0.82      0.86      0.84        87\n",
            "weighted avg       0.95      0.94      0.94        87\n",
            "\n"
          ]
        },
        {
          "output_type": "display_data",
          "data": {
            "image/png": "[encoded data removed]",
            "text/plain": [
              "<Figure size 432x288 with 2 Axes>"
            ]
          },
          "metadata": {
            "needs_background": "light"
          }
        }
      ],
      "source": [
        "from collections import Counter\n",
        "import numpy as np\n",
        "import pandas as pd\n",
        "from sklearn.model_selection import train_test_split\n",
        "from sklearn.tree import DecisionTreeClassifier\n",
        "from sklearn.model_selection import GridSearchCV\n",
        "from sklearn.preprocessing import StandardScaler\n",
        "from sklearn.metrics import confusion_matrix, classification_report\n",
        "from sklearn.metrics import roc_curve , roc_auc_score\n",
        "from sklearn.metrics import roc_curve\n",
        "from sklearn.metrics import auc\n",
        "import seaborn as sns\n",
        "import numpy as np\n",
        "import pandas as pd\n",
        "import random\n",
        "import matplotlib.pyplot as plt\n",
        "\n",
        "\n",
        "def euclidean_distance(x1, x2):\n",
        "    return np.sqrt(np.sum((x1 - x2) ** 2))\n",
        "\n",
        "\n",
        "class KNN:\n",
        "    def __init__(self, k=3):\n",
        "        self.k = k\n",
        "\n",
        "    def fit(self, X, y):\n",
        "        self.X_train = X\n",
        "        self.y_train = y\n",
        "\n",
        "    def predict(self, X):\n",
        "        y_pred = [self._predict(x) for x in X]\n",
        "        return np.array(y_pred)\n",
        "\n",
        "    def _predict(self, x):\n",
        "        # Compute distances between x and all examples in the training set\n",
        "        distances = [euclidean_distance(x, x_train) for x_train in self.X_train]\n",
        "        # Sort by distance and return indices of the first k neighbors\n",
        "        k_idx = np.argsort(distances)[: self.k]\n",
        "        # Extract the labels of the k nearest neighbor training samples\n",
        "        k_neighbor_labels = [self.y_train[i] for i in k_idx]\n",
        "        # return the most common class label\n",
        "        most_common = Counter(k_neighbor_labels).most_common(1)\n",
        "        return most_common[0][0]\n",
        "\n",
        "\n",
        "if __name__ == \"__main__\":\n",
        "    # Imports\n",
        "    from matplotlib.colors import ListedColormap\n",
        "    import pandas as pd\n",
        "    from sklearn.model_selection import train_test_split\n",
        "\n",
        "    cmap = ListedColormap([\"#FF0000\", \"#00FF00\", \"#0000FF\"])\n",
        "\n",
        "    def accuracy(y_true, y_pred):\n",
        "        accuracy = np.sum(y_true == y_pred) / len(y_true)\n",
        "        return accuracy\n",
        "\n",
        "    import csv\n",
        "    # filename = r'data.csv'\n",
        "    # # load the file and store it in mydata list\n",
        "    # mydata = csv.reader(open(filename, \"rt\"))\n",
        "    # # next(mydata)\n",
        "    # data = list(mydata)\n",
        "    # X = data[:,:-1]\n",
        "    # # y = data[-1].astype(int)\n",
        "    # y = np.array(data[-1], dtype=np.float32)\n",
        "    #===============================================================\n",
        "\n",
        "    data = pd.read_csv(\"data.csv\" , index_col= 0)\n",
        "    X = data[['location', 'country', 'gender', 'age', 'vis_wuhan', 'from_wuhan', 'symptom1', 'symptom2', 'symptom3', 'symptom4', 'symptom5', 'symptom6', 'diff_sym_hos']].values\n",
        "    Y = data['result'].values\n",
        "    X_train, X_test, y_train, y_test = train_test_split( X, Y, test_size=0.1, random_state=3 )\n",
        "\n",
        "    k = 3\n",
        "    clf = KNN(k=k)\n",
        "    clf.fit(X_train, y_train)\n",
        "    predictions = clf.predict(X_test)\n",
        "    print(\"KNN classification accuracy\", accuracy(y_test, predictions))\n",
        "\n",
        "\n",
        "    #Calculating Prediction\n",
        "    Y_pred = clf.predict(X_test)\n",
        "    #print('Predicted Value for SVM_model is : ' , yPred[:10])\n",
        "\n",
        "    #----------------------------------------------------\n",
        "    #Calculating Confusion Matrix\n",
        "    CM = confusion_matrix(y_test, Y_pred)\n",
        "\n",
        "    # drawing confusion matrix\n",
        "    ax= plt.subplot()\n",
        "    sns.heatmap(CM, annot=True, fmt='g', ax = ax);\n",
        "    ax.set_xlabel('Predicted labels');\n",
        "    ax.set_ylabel('True labels'); \n",
        "    ax.set_title('Confusion Matrix'); \n",
        "\n",
        "    #Calculating classification Report :  \n",
        "\n",
        "    ClassificationReport = classification_report(y_test, Y_pred)\n",
        "    print('Classification Report is : \\n', ClassificationReport)\n",
        "\n",
        "  "
      ]
    },
    {
      "cell_type": "code",
      "source": [
        "    #Calculating Area Under the Curve with predict probapility:\n",
        "    fpr, tpr, threshold = roc_curve(y_test, Y_pred)\n",
        "    roc_auc = auc(fpr, tpr)\n",
        "    plt.plot(fpr, tpr, 'g', label = 'AUC = %0.2f' % roc_auc)\n",
        "    plt.legend(loc = 'lower right')\n",
        "    plt.plot([0, 1], [0, 1],'b--')\n",
        "    plt.xlim([0, 1])\n",
        "    plt.ylim([0, 1])\n",
        "    plt.ylabel('TP')\n",
        "    plt.xlabel('FP')\n",
        "    plt.title('ROC')\n",
        "    plt.grid()  "
      ],
      "metadata": {
        "id": "R65nsKVL5j0q",
        "colab": {
          "base_uri": "https://localhost:8080/",
          "height": 295
        },
        "outputId": "4f277df3-1e6f-480c-eb54-a74249d664d6"
      },
      "execution_count": null,
      "outputs": [
        {
          "output_type": "display_data",
          "data": {
            "image/png": "[encoded data removed]",
            "text/plain": [
              "<Figure size 432x288 with 1 Axes>"
            ]
          },
          "metadata": {
            "needs_background": "light"
          }
        }
      ]
    },
    {
      "cell_type": "code",
      "source": [
        ""
      ],
      "metadata": {
        "id": "XGXcNogJ1Bqs"
      },
      "execution_count": null,
      "outputs": []
    }
  ]
}