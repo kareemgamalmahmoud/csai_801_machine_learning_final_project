{
  "nbformat": 4,
  "nbformat_minor": 0,
  "metadata": {
    "colab": {
      "name": "LR_Scratch.ipynb",
      "provenance": [],
      "collapsed_sections": []
    },
    "kernelspec": {
      "name": "python3",
      "display_name": "Python 3"
    },
    "language_info": {
      "name": "python"
    }
  },
  "cells": [
    {
      "cell_type": "code",
      "execution_count": 1,
      "metadata": {
        "id": "V290J8BIuoq1"
      },
      "outputs": [],
      "source": [
        "import numpy as np\n",
        "import pandas as pd\n",
        "from sklearn.model_selection import train_test_split\n",
        "import warnings\n",
        "warnings.filterwarnings( \"ignore\" )\n",
        "from sklearn.linear_model import LogisticRegression\n",
        "from sklearn.preprocessing import StandardScaler\n",
        "import seaborn as sns\n",
        "import matplotlib.pyplot as plt\n",
        "from sklearn.metrics import accuracy_score\n",
        "from sklearn.metrics import classification_report\n",
        "from sklearn.metrics import roc_curve\n",
        "from sklearn.metrics import auc\n",
        "from sklearn.metrics import confusion_matrix\n",
        "from sklearn.metrics import roc_auc_score"
      ]
    },
    {
      "cell_type": "code",
      "source": [
        "\n",
        "class LogitRegression() :\n",
        "    def __init__( self, learning_rate, iterations ) :        \n",
        "        self.learning_rate = learning_rate        \n",
        "        self.iterations = iterations\n",
        "          \n",
        "    # Function for model training    \n",
        "    def fit( self, X, Y ) :        \n",
        "        # no_of_training_examples, no_of_features        \n",
        "        self.m, self.n = X.shape        \n",
        "        # weight initialization        \n",
        "        self.W = np.zeros( self.n )        \n",
        "        self.b = 0        \n",
        "        self.X = X        \n",
        "        self.Y = Y\n",
        "          \n",
        "        # gradient descent learning\n",
        "                  \n",
        "        for i in range( self.iterations ) :            \n",
        "            self.update_weights()            \n",
        "        return self\n",
        "      \n",
        "    # Helper function to update weights in gradient descent\n",
        "      \n",
        "    def update_weights( self ) :           \n",
        "        A = 1 / ( 1 + np.exp( - ( self.X.dot( self.W ) + self.b ) ) )\n",
        "          \n",
        "        # calculate gradients        \n",
        "        tmp = ( A - self.Y.T )        \n",
        "        tmp = np.reshape( tmp, self.m )        \n",
        "        dW = np.dot( self.X.T, tmp ) / self.m         \n",
        "        db = np.sum( tmp ) / self.m \n",
        "          \n",
        "        # update weights    \n",
        "        self.W = self.W - self.learning_rate * dW    \n",
        "        self.b = self.b - self.learning_rate * db\n",
        "          \n",
        "        return self\n",
        "      \n",
        "    # Hypothetical function  h( x ) \n",
        "      \n",
        "    def predict( self, X ) :    \n",
        "        Z = 1 / ( 1 + np.exp( - ( X.dot( self.W ) + self.b ) ) )        \n",
        "        Y = np.where( Z > 0.5, 1, 0 )        \n",
        "        return Y"
      ],
      "metadata": {
        "id": "8EA1XRgAuqnq"
      },
      "execution_count": 2,
      "outputs": []
    },
    {
      "cell_type": "code",
      "source": [
        "def main() :\n",
        "      \n",
        "    # Importing dataset    \n",
        "    df = pd.read_csv( \"/content/data.csv\" )\n",
        "    # X = df.iloc[:,:-1].values\n",
        "    Y = df.iloc[:,-1].values\n",
        "    # X_train, X_test, Y_train, Y_test= train_test_split(X, Y, test_size = .10, random_state = 42)\n",
        "    X = df[['location', 'country', 'gender', 'age', 'vis_wuhan', 'from_wuhan', 'symptom1', 'symptom2', 'symptom3', 'symptom4', 'symptom5', 'symptom6', 'diff_sym_hos']]\n",
        "    print(X.shape)\n",
        "    X.head(5)\n",
        "    X_hot = pd.get_dummies(X, columns=['location', 'country','gender','age', 'vis_wuhan', 'from_wuhan', 'symptom1', 'symptom2', 'symptom3', 'symptom4', 'symptom5', 'symptom6', 'diff_sym_hos'])\n",
        "    X_train, X_test, Y_train, Y_test= train_test_split(X_hot, Y, test_size = .10, random_state = 2)\n",
        "    print(X_hot.shape)\n",
        "    print(X_hot.head(5))\n",
        "    scaler = StandardScaler()\n",
        "    scaler.fit(X_train)\n",
        "    X_train=scaler.transform(X_train)\n",
        "    X_test=scaler.transform(X_test)  \n",
        "    # Model training    \n",
        "    model = LogitRegression( learning_rate = 0.1, iterations = 1000 )\n",
        "      \n",
        "    model.fit( X_train, Y_train )    \n",
        "   \n",
        "      \n",
        "    Y_pred = model.predict( X_test )    \n",
        "      \n",
        "    correctly_classified = 0    \n",
        "      \n",
        "    count = 0    \n",
        "    for count in range( np.size( Y_pred ) ) :  \n",
        "        \n",
        "        if Y_test[count] == Y_pred[count] :            \n",
        "            correctly_classified = correctly_classified + 1\n",
        "          \n",
        "              \n",
        "        count = count + 1\n",
        "          \n",
        "    print( \"Accuracy on test set by our model       :  \", (correctly_classified / count ) * 100 )\n",
        "    \n",
        "    ClassificationReport = classification_report(Y_test, Y_pred)\n",
        "    print('Classification Report is : \\n', ClassificationReport)\n",
        "\n",
        "    yPred = model.predict(X_test)\n",
        "    CM = confusion_matrix(Y_test, Y_pred)\n",
        "\n",
        "    ax= plt.subplot(1,2,1)\n",
        "    sns.heatmap(CM, annot=True, fmt='g', ax = ax);\n",
        "    ax.set_xlabel('Predicted labels');\n",
        "    ax.set_ylabel('True labels'); \n",
        "    ax.set_title('Confusion Matrix'); \n",
        "    print('...........................................')\n",
        "    ###############################################################\n",
        "    fpr, tpr, threshold = roc_curve(Y_test, Y_pred)\n",
        "    roc_auc = auc(fpr, tpr)\n",
        "    plt.subplot(1,2,2)\n",
        "    plt.plot(fpr, tpr, 'g', label = 'AUC = %0.2f' % roc_auc)\n",
        "    plt.legend(loc = 'lower right')\n",
        "    plt.plot([0, 1], [0, 1],'b--')\n",
        "    plt.xlim([0, 1])\n",
        "    plt.ylim([0, 1])\n",
        "    plt.ylabel('TP')\n",
        "    plt.xlabel('FP')\n",
        "    plt.title('ROC')\n",
        "    plt.grid() \n",
        "  \n",
        "if __name__ == \"__main__\" :     \n",
        "    main()"
      ],
      "metadata": {
        "colab": {
          "base_uri": "https://localhost:8080/",
          "height": 677
        },
        "id": "WaEFdpZLDScU",
        "outputId": "9dbfbcaf-5bf8-42d4-aaec-a8a4971bde9f"
      },
      "execution_count": 3,
      "outputs": [
        {
          "output_type": "stream",
          "name": "stdout",
          "text": [
            "(863, 13)\n",
            "(863, 375)\n",
            "   location_0  location_1  ...  diff_sym_hos_14  diff_sym_hos_15\n",
            "0           0           0  ...                0                0\n",
            "1           0           0  ...                0                0\n",
            "2           0           0  ...                0                0\n",
            "3           0           0  ...                0                0\n",
            "4           0           0  ...                0                0\n",
            "\n",
            "[5 rows x 375 columns]\n",
            "Accuracy on test set by our model       :   95.40229885057471\n",
            "Classification Report is : \n",
            "               precision    recall  f1-score   support\n",
            "\n",
            "           0       0.97      0.97      0.97        77\n",
            "           1       0.80      0.80      0.80        10\n",
            "\n",
            "    accuracy                           0.95        87\n",
            "   macro avg       0.89      0.89      0.89        87\n",
            "weighted avg       0.95      0.95      0.95        87\n",
            "\n",
            "...........................................\n"
          ]
        },
        {
          "output_type": "display_data",
          "data": {
            "image/png": "[encoded data removed]",
            "text/plain": [
              "<Figure size 432x288 with 3 Axes>"
            ]
          },
          "metadata": {
            "needs_background": "light"
          }
        }
      ]
    },
    {
      "cell_type": "code",
      "source": [
        " "
      ],
      "metadata": {
        "id": "OzgdTAHSu8Hx"
      },
      "execution_count": 3,
      "outputs": []
    },
    {
      "cell_type": "code",
      "source": [
        ""
      ],
      "metadata": {
        "id": "4sRVUWuhwX-k"
      },
      "execution_count": 3,
      "outputs": []
    }
  ]
}